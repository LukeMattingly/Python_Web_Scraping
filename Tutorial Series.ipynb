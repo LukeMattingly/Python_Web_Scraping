{
 "cells": [
  {
   "cell_type": "markdown",
   "metadata": {},
   "source": [
    "Tutorial Part 2"
   ]
  },
  {
   "cell_type": "code",
   "execution_count": 11,
   "metadata": {},
   "outputs": [
    {
     "name": "stdout",
     "output_type": "stream",
     "text": [
      "Hello there Jeff\n",
      "Hello there Gary\n",
      "Hello there Jill\n",
      "Hello there Samantha\n"
     ]
    }
   ],
   "source": [
    "names = ['Jeff', 'Gary', 'Jill', 'Samantha']\n",
    "for name in names:\n",
    "    #print 'Hello there '+ name\n",
    "    print(' '.join(['Hello there', name]))"
   ]
  },
  {
   "cell_type": "code",
   "execution_count": 10,
   "metadata": {
    "scrolled": true
   },
   "outputs": [
    {
     "name": "stdout",
     "output_type": "stream",
     "text": [
      "Hello there\n"
     ]
    }
   ],
   "source": [
    "print(' '.join(['Hello there']))"
   ]
  },
  {
   "cell_type": "code",
   "execution_count": null,
   "metadata": {
    "collapsed": true
   },
   "outputs": [],
   "source": []
  },
  {
   "cell_type": "code",
   "execution_count": 7,
   "metadata": {},
   "outputs": [
    {
     "name": "stdout",
     "output_type": "stream",
     "text": [
      "Jeff, Gary, Jill, Samantha\n"
     ]
    }
   ],
   "source": [
    "#For true concatinating of strings more than 2 strings(scales better, uses less processing)\n",
    "print(', '.join(names))"
   ]
  },
  {
   "cell_type": "code",
   "execution_count": 9,
   "metadata": {},
   "outputs": [
    {
     "name": "stdout",
     "output_type": "stream",
     "text": [
      "C:\\Users\\Kycool13\\Documents\\GitHub\\graphPractice\\problem1.txt\n"
     ]
    }
   ],
   "source": [
    "import os\n",
    "location_of_files = 'C:\\Users\\Kycool13\\Documents\\GitHub\\graphPractice'\n",
    "file_name = 'problem1.txt'\n",
    "\n",
    "print(location_of_files + '\\\\' + file_name)"
   ]
  },
  {
   "cell_type": "code",
   "execution_count": 12,
   "metadata": {},
   "outputs": [
    {
     "name": "stdout",
     "output_type": "stream",
     "text": [
      "13\n",
      "10 10\n",
      "10 20\n",
      "20 10\n",
      "20 20\n",
      "80 10\n",
      "85 20\n",
      "90 10\n",
      "50 80\n",
      "60 80\n",
      "45 85\n",
      "65 85\n",
      "55 90\n"
     ]
    }
   ],
   "source": [
    "with open(os.path.join(location_of_files, file_name)) as f:\n",
    "    print(f.read())"
   ]
  },
  {
   "cell_type": "code",
   "execution_count": 14,
   "metadata": {},
   "outputs": [
    {
     "name": "stdout",
     "output_type": "stream",
     "text": [
      "Gary bought 12 apples today\n"
     ]
    }
   ],
   "source": [
    "#This is incorrect\n",
    "who = 'Gary'\n",
    "how_many = 12\n",
    "print who, 'bought', how_many, 'apples today'"
   ]
  },
  {
   "cell_type": "code",
   "execution_count": 17,
   "metadata": {},
   "outputs": [
    {
     "name": "stdout",
     "output_type": "stream",
     "text": [
      "Gary bought 12 apples today\n"
     ]
    }
   ],
   "source": [
    "#This is the correct way to do string formatting\n",
    "print('{} bought {} apples today'.format(who, how_many))"
   ]
  },
  {
   "cell_type": "markdown",
   "metadata": {},
   "source": [
    "Tutorial Part 3"
   ]
  },
  {
   "cell_type": "code",
   "execution_count": null,
   "metadata": {
    "collapsed": true
   },
   "outputs": [],
   "source": [
    "def calc(x, y, operation):\n",
    "    if operation == 'add':\n",
    "        return x + y\n",
    "    elif"
   ]
  }
 ],
 "metadata": {
  "kernelspec": {
   "display_name": "Python 2",
   "language": "python",
   "name": "python2"
  },
  "language_info": {
   "codemirror_mode": {
    "name": "ipython",
    "version": 2
   },
   "file_extension": ".py",
   "mimetype": "text/x-python",
   "name": "python",
   "nbconvert_exporter": "python",
   "pygments_lexer": "ipython2",
   "version": "2.7.13"
  }
 },
 "nbformat": 4,
 "nbformat_minor": 2
}
